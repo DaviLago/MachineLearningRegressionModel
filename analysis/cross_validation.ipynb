{
 "cells": [
  {
   "cell_type": "markdown",
   "id": "f02a4ef2",
   "metadata": {},
   "source": [
    "# Cross-Validation Comparison of Regression Models for Predicting Insurance Charges"
   ]
  },
  {
   "cell_type": "markdown",
   "id": "4de9d7e2",
   "metadata": {},
   "source": [
    "## Libraries\n",
    "#### pandas\n",
    "For data manipulation and analysis.\n",
    "#### numpy\n",
    "Provides support for numerical operations and arrays.\n",
    "#### OneHotEncoder\n",
    "Encodes categorical variables into binary format.\n",
    "#### cross_val_score\n",
    "Evaluates a model’s performance using cross-validation.\n",
    "#### LinearRegression, Lasso, Ridge\n",
    "Implements linear regression models; Lasso uses L1 regularization, Ridge uses L2 regularization.\n",
    "#### DecisionTreeRegressor\n",
    "Implements decision tree regression for modeling non-linear relationships."
   ]
  },
  {
   "cell_type": "code",
   "execution_count": 8,
   "id": "7f9b3e1a",
   "metadata": {},
   "outputs": [],
   "source": [
    "import pandas as pd\n",
    "import numpy as np\n",
    "from sklearn.preprocessing import OneHotEncoder\n",
    "from sklearn.model_selection import cross_val_score\n",
    "from sklearn.linear_model import LinearRegression, Lasso, Ridge\n",
    "from sklearn.tree import DecisionTreeRegressor"
   ]
  },
  {
   "cell_type": "markdown",
   "id": "696887ae",
   "metadata": {},
   "source": [
    "## Load the dataset"
   ]
  },
  {
   "cell_type": "code",
   "execution_count": 9,
   "id": "313f0b7d",
   "metadata": {},
   "outputs": [],
   "source": [
    "df = pd.read_csv('../dataset/insurance.csv')"
   ]
  },
  {
   "cell_type": "markdown",
   "id": "fe3df538",
   "metadata": {},
   "source": [
    "## Drop duplicate rows"
   ]
  },
  {
   "cell_type": "code",
   "execution_count": 10,
   "id": "3c0f7347",
   "metadata": {},
   "outputs": [],
   "source": [
    "df = df.drop_duplicates()"
   ]
  },
  {
   "cell_type": "markdown",
   "id": "09680bd7",
   "metadata": {},
   "source": [
    "## Apply One Hot Encode"
   ]
  },
  {
   "cell_type": "code",
   "execution_count": 11,
   "id": "a3676d95",
   "metadata": {},
   "outputs": [],
   "source": [
    "encoder = OneHotEncoder(sparse_output=False, drop='first')\n",
    "encoded_data = encoder.fit_transform(df[['smoker', 'sex', 'region']])\n",
    "encoded_columns = encoder.get_feature_names_out(['smoker', 'sex', 'region'])\n",
    "df_encoded = pd.DataFrame(encoded_data, columns=encoded_columns, index=df.index)\n",
    "df = pd.concat([df.drop(columns=['smoker', 'sex', 'region']), df_encoded], axis=1)"
   ]
  },
  {
   "cell_type": "markdown",
   "id": "e2b0c3c3",
   "metadata": {},
   "source": [
    "## Split the data into features (X) and target (y)"
   ]
  },
  {
   "cell_type": "code",
   "execution_count": 12,
   "id": "00b41d40",
   "metadata": {},
   "outputs": [],
   "source": [
    "X = df.drop(columns=['charges'])  # Features\n",
    "y = df['charges']  # Target"
   ]
  },
  {
   "cell_type": "markdown",
   "id": "4f0236ec",
   "metadata": {},
   "source": [
    "## Define models"
   ]
  },
  {
   "cell_type": "code",
   "execution_count": 13,
   "id": "95010837",
   "metadata": {},
   "outputs": [],
   "source": [
    "models = {\n",
    "    'Linear Regression': LinearRegression(),\n",
    "    'Decision Tree': DecisionTreeRegressor(random_state=42),\n",
    "    'Lasso Regression': Lasso(alpha=1.0, random_state=42, max_iter=10000),\n",
    "    'Ridge Regression': Ridge(alpha=1.0, random_state=42, max_iter=10000)\n",
    "}"
   ]
  },
  {
   "cell_type": "markdown",
   "id": "6de8ad81",
   "metadata": {},
   "source": [
    "## Perform 5-fold cross-validation and print mean scores\n",
    "Linear Regression, Lasso Regression, and Ridge Regression are better suited for predicting charges in this insurance dataset, providing lower and more consistent errors compared to Decision Tree Regression\n",
    "\n",
    "Regularization (Lasso and Ridge) did not significantly improve performance over standard Linear Regression, likely due to the dataset’s characteristics."
   ]
  },
  {
   "cell_type": "code",
   "execution_count": 14,
   "id": "1c34dacb",
   "metadata": {},
   "outputs": [
    {
     "name": "stdout",
     "output_type": "stream",
     "text": [
      "Linear Regression: Mean RMSE = 6074.29, Std = 194.30\n",
      "Decision Tree: Mean RMSE = 6597.09, Std = 310.63\n",
      "Lasso Regression: Mean RMSE = 6074.19, Std = 193.97\n",
      "Ridge Regression: Mean RMSE = 6074.48, Std = 189.73\n"
     ]
    }
   ],
   "source": [
    "for name, model in models.items():\n",
    "    scores = cross_val_score(model, X, y, cv=5, scoring='neg_mean_squared_error')\n",
    "    rmse_scores = np.sqrt(-scores)\n",
    "    print(f\"{name}: Mean RMSE = {rmse_scores.mean():.2f}, Std = {rmse_scores.std():.2f}\")"
   ]
  }
 ],
 "metadata": {
  "kernelspec": {
   "display_name": ".venv",
   "language": "python",
   "name": "python3"
  },
  "language_info": {
   "codemirror_mode": {
    "name": "ipython",
    "version": 3
   },
   "file_extension": ".py",
   "mimetype": "text/x-python",
   "name": "python",
   "nbconvert_exporter": "python",
   "pygments_lexer": "ipython3",
   "version": "3.13.3"
  }
 },
 "nbformat": 4,
 "nbformat_minor": 5
}
